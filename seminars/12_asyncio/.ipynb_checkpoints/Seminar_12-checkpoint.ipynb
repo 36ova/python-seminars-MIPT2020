{
 "cells": [
  {
   "cell_type": "code",
   "execution_count": 1,
   "metadata": {},
   "outputs": [],
   "source": [
    "from IPython.core.interactiveshell import InteractiveShell\n",
    "InteractiveShell.ast_node_interactivity = \"all\"\n"
   ]
  },
  {
   "cell_type": "markdown",
   "metadata": {},
   "source": [
    "# Python3\n",
    "## Asyncio, coroutines, tasks\n",
    "\n",
    "MIPT 2020"
   ]
  },
  {
   "cell_type": "markdown",
   "metadata": {},
   "source": [
    "Здесь будут рассмотрены основные понятия библиотеки asyncio. Материалы и примеры сильно опираются на документацию и версию питона 3.8\n",
    "\n",
    "https://docs.python.org/3/library/asyncio-task.html"
   ]
  },
  {
   "cell_type": "markdown",
   "metadata": {},
   "source": [
    "## Мотивация"
   ]
  },
  {
   "cell_type": "markdown",
   "metadata": {},
   "source": [
    "asyncio предоставляет особый нелинейный подход к созданию программ. Да, в питоне есть GIL, который запрещает использовать более одного потока, но тем не менее можно экономить время на различных видах блокировок - input/output, connections, sleep, __manual__. Последнее входит в парадигму, с помощью которой можно писать программы, основываясь на так называемых событиях"
   ]
  },
  {
   "cell_type": "markdown",
   "metadata": {},
   "source": [
    "## Coros and tasks"
   ]
  },
  {
   "cell_type": "markdown",
   "metadata": {},
   "source": [
    "### Coroutines"
   ]
  },
  {
   "cell_type": "markdown",
   "metadata": {},
   "source": [
    "Корутины объявляются через async/await и позволяют конкурентно выполнять задания"
   ]
  },
  {
   "cell_type": "code",
   "execution_count": 53,
   "metadata": {},
   "outputs": [
    {
     "name": "stdout",
     "output_type": "stream",
     "text": [
      "hello\n",
      "world\n"
     ]
    }
   ],
   "source": [
    "import asyncio\n",
    "\n",
    "async def main():\n",
    "    print('hello')\n",
    "    await asyncio.sleep(2)\n",
    "    print('world')\n",
    "\n",
    "# Чтобы запустить main() извне, нужно вызвать run, \n",
    "# он создаст event loop и будет работать с корутинами\n",
    "# В ноутбуке event loop уже настроен, поэтому можно считать, что run кто-то выполнил за нас\n",
    "\n",
    "# asyncio.run(main())\n",
    "await main()"
   ]
  },
  {
   "cell_type": "markdown",
   "metadata": {},
   "source": [
    "В базовом варианте `async def main()` означает, что `main` - функция корутины, `main()` - собственно объект корутины. Замечу, что строчка без await не сделает ничего"
   ]
  },
  {
   "cell_type": "code",
   "execution_count": 4,
   "metadata": {},
   "outputs": [
    {
     "data": {
      "text/plain": [
       "<coroutine object main at 0x7f5ce45b0040>"
      ]
     },
     "execution_count": 4,
     "metadata": {},
     "output_type": "execute_result"
    }
   ],
   "source": [
    "main()"
   ]
  },
  {
   "cell_type": "markdown",
   "metadata": {},
   "source": [
    "Похоже на генераторы"
   ]
  },
  {
   "cell_type": "code",
   "execution_count": 55,
   "metadata": {},
   "outputs": [
    {
     "data": {
      "text/plain": [
       "<generator object gen at 0x7f5cd5b7d270>"
      ]
     },
     "execution_count": 55,
     "metadata": {},
     "output_type": "execute_result"
    }
   ],
   "source": [
    "def gen():\n",
    "    yield 1\n",
    "gen()"
   ]
  },
  {
   "cell_type": "markdown",
   "metadata": {},
   "source": [
    "Использование корутин ТОЛЬКО при помощи async/await ничем не отличается от линейного исполнения"
   ]
  },
  {
   "cell_type": "code",
   "execution_count": 59,
   "metadata": {},
   "outputs": [
    {
     "name": "stdout",
     "output_type": "stream",
     "text": [
      "started at 09:24:00\n",
      "something\n",
      "hello\n",
      "something\n",
      "world\n",
      "finished at 09:24:03\n"
     ]
    }
   ],
   "source": [
    "import time\n",
    "\n",
    "async def say_after(delay, what):\n",
    "    print('something')\n",
    "    await asyncio.sleep(delay)\n",
    "    print(what)\n",
    "\n",
    "async def main():\n",
    "    print(f\"started at {time.strftime('%X')}\")\n",
    "\n",
    "    await say_after(1, 'hello')\n",
    "    await say_after(2, 'world')\n",
    "\n",
    "    print(f\"finished at {time.strftime('%X')}\")\n",
    "\n",
    "await main()"
   ]
  },
  {
   "cell_type": "markdown",
   "metadata": {},
   "source": [
    "Здесь мы ждем все 3 секунды"
   ]
  },
  {
   "cell_type": "markdown",
   "metadata": {},
   "source": [
    "### Tasks"
   ]
  },
  {
   "cell_type": "markdown",
   "metadata": {},
   "source": [
    "Есть и другой __awaitable__ объект (то есть к которому валидно приписывать await) - `Task`. Он создается с помощью `asyncio.create_task` и означает то, что мы положили в event loop новую задачу, которая реально будет выполнена в неизвестный момент времени, но доисполняется, когда будет вызов await. Если говорить о последнем, то в строчке await мы всегда дожидаемся конца исполнения послестоящего объекта."
   ]
  },
  {
   "cell_type": "code",
   "execution_count": 61,
   "metadata": {},
   "outputs": [
    {
     "name": "stdout",
     "output_type": "stream",
     "text": [
      "started at 09:26:03\n",
      "something\n",
      "something\n",
      "hello\n",
      "finished at 09:26:04\n",
      "world\n"
     ]
    }
   ],
   "source": [
    "async def main():\n",
    "    task1 = asyncio.create_task(\n",
    "        say_after(1, 'hello'))\n",
    "\n",
    "    task2 = asyncio.create_task(\n",
    "        say_after(2, 'world'))\n",
    "\n",
    "    print(f\"started at {time.strftime('%X')}\")\n",
    "    \n",
    "    # Wait until both tasks are completed (should take\n",
    "    # around 2 seconds.)\n",
    "    await task1\n",
    "    await task2\n",
    "\n",
    "    print(f\"finished at {time.strftime('%X')}\")\n",
    "\n",
    "await main()"
   ]
  },
  {
   "cell_type": "markdown",
   "metadata": {},
   "source": [
    "Вопрос на засыпку - что будет, если убрать `await task1`?"
   ]
  },
  {
   "cell_type": "markdown",
   "metadata": {},
   "source": [
    "### Futures"
   ]
  },
  {
   "cell_type": "markdown",
   "metadata": {},
   "source": [
    "Эти объекты означают __конечный результат__ исполнения асинхронной операции. Это низкоуровневый примитив, обычно нет смысла использовать его в коде"
   ]
  },
  {
   "cell_type": "markdown",
   "metadata": {},
   "source": [
    "Хороший пример исполнения - `asyncio.gather`"
   ]
  },
  {
   "cell_type": "code",
   "execution_count": 62,
   "metadata": {},
   "outputs": [
    {
     "data": {
      "text/plain": [
       "<_GatheringFuture pending>"
      ]
     },
     "execution_count": 62,
     "metadata": {},
     "output_type": "execute_result"
    },
    {
     "name": "stdout",
     "output_type": "stream",
     "text": [
      "1\n",
      "2\n"
     ]
    },
    {
     "data": {
      "text/plain": [
       "[None, None]"
      ]
     },
     "execution_count": 62,
     "metadata": {},
     "output_type": "execute_result"
    }
   ],
   "source": [
    "async def printer(num):\n",
    "    await asyncio.sleep(num)\n",
    "    print(num)\n",
    "\n",
    "future = asyncio.gather(\n",
    "    printer(1),\n",
    "    printer(2),\n",
    ")\n",
    "future\n",
    "await future"
   ]
  },
  {
   "cell_type": "markdown",
   "metadata": {},
   "source": [
    "## Функциональность модуля asyncio"
   ]
  },
  {
   "cell_type": "markdown",
   "metadata": {},
   "source": [
    "### asyncio.gather"
   ]
  },
  {
   "cell_type": "code",
   "execution_count": 63,
   "metadata": {},
   "outputs": [
    {
     "name": "stdout",
     "output_type": "stream",
     "text": [
      "error occured, everything canceled\n"
     ]
    }
   ],
   "source": [
    "async def even_thrower(num):\n",
    "    await asyncio.sleep(num)\n",
    "    if num % 2 == 0:\n",
    "        raise ArithmeticError\n",
    "    return num\n",
    "\n",
    "try:\n",
    "    await asyncio.gather(\n",
    "        even_thrower(1),\n",
    "        even_thrower(2),\n",
    "        even_thrower(3),\n",
    "    )\n",
    "except ArithmeticError:\n",
    "    print(\"error occured, everything canceled\")"
   ]
  },
  {
   "cell_type": "code",
   "execution_count": 64,
   "metadata": {},
   "outputs": [
    {
     "data": {
      "text/plain": [
       "[1, ArithmeticError(), 3]"
      ]
     },
     "execution_count": 64,
     "metadata": {},
     "output_type": "execute_result"
    }
   ],
   "source": [
    "await asyncio.gather(\n",
    "    even_thrower(1),\n",
    "    even_thrower(2),\n",
    "    even_thrower(3),\n",
    "    return_exceptions=True,\n",
    ")"
   ]
  },
  {
   "cell_type": "markdown",
   "metadata": {},
   "source": [
    "### asyncio.shield"
   ]
  },
  {
   "cell_type": "markdown",
   "metadata": {},
   "source": [
    "Защищает корутину от того, чтобы она была отменена\n",
    "\n",
    "Если вызывающая корутина была отменена, то это не спасет внутреннюю даже под shield"
   ]
  },
  {
   "cell_type": "code",
   "execution_count": 65,
   "metadata": {},
   "outputs": [
    {
     "name": "stdout",
     "output_type": "stream",
     "text": [
      "Cancelled\n"
     ]
    }
   ],
   "source": [
    "async def canceller(coro):\n",
    "    coro.cancel()\n",
    "\n",
    "task = asyncio.create_task(asyncio.sleep(2))\n",
    "\n",
    "await canceller(task)\n",
    "try:\n",
    "    await task\n",
    "except asyncio.CancelledError:\n",
    "    print('Cancelled')"
   ]
  },
  {
   "cell_type": "code",
   "execution_count": 66,
   "metadata": {},
   "outputs": [
    {
     "name": "stdout",
     "output_type": "stream",
     "text": [
      "3\n"
     ]
    }
   ],
   "source": [
    "async def cancelled_coro():\n",
    "    task = asyncio.create_task(asyncio.sleep(2, result=3))\n",
    "\n",
    "    await canceller(asyncio.shield(task))\n",
    "    return await task\n",
    "\n",
    "print(await cancelled_coro())\n"
   ]
  },
  {
   "cell_type": "markdown",
   "metadata": {},
   "source": [
    "### asyncio.wait_for"
   ]
  },
  {
   "cell_type": "markdown",
   "metadata": {},
   "source": [
    "Не дает выполняться корутине дольше таймаута. Кидает `TimeoutError`. При этом сначала завершается корутина, затем кидается исключение"
   ]
  },
  {
   "cell_type": "code",
   "execution_count": 75,
   "metadata": {},
   "outputs": [
    {
     "name": "stdout",
     "output_type": "stream",
     "text": [
      "timeout!\n"
     ]
    }
   ],
   "source": [
    "async def eternity():\n",
    "    # Sleep for one hour\n",
    "    await asyncio.sleep(3600)\n",
    "    print('yay!')\n",
    "\n",
    "async def main():\n",
    "    # Wait for at most 1 second\n",
    "    try:\n",
    "        await asyncio.wait_for(eternity(), timeout=1.0)\n",
    "    except asyncio.TimeoutError:\n",
    "        print('timeout!')\n",
    "\n",
    "await main()"
   ]
  },
  {
   "cell_type": "markdown",
   "metadata": {},
   "source": [
    "### asyncio.wait"
   ]
  },
  {
   "cell_type": "markdown",
   "metadata": {},
   "source": [
    "Выполняет сет корутин до `return_when`, который является параметром функции. По дефолту `return_when=ALL_COMPLETED`\n",
    "\n",
    "Возвращает 2 сета - выполненных и еще нет корутин (при этом важно заметить, что возвращают связанные `Task`, а не старые корутины)"
   ]
  },
  {
   "cell_type": "code",
   "execution_count": 86,
   "metadata": {},
   "outputs": [
    {
     "name": "stdout",
     "output_type": "stream",
     "text": [
      "1\n",
      "{<Task finished name='Task-194' coro=<printer() done, defined at <ipython-input-62-4a425ba1d080>:1> result=None>} {<Task pending name='Task-196' coro=<printer() running at <ipython-input-62-4a425ba1d080>:2> wait_for=<Future pending cb=[<TaskWakeupMethWrapper object at 0x7f5cd635a7f0>()]>>, <Task pending name='Task-195' coro=<printer() running at <ipython-input-62-4a425ba1d080>:2> wait_for=<Future pending cb=[<TaskWakeupMethWrapper object at 0x7f5cd635a910>()]>>}\n",
      "2\n",
      "3\n"
     ]
    }
   ],
   "source": [
    "task1 = asyncio.create_task(printer(1))\n",
    "coros = {printer(3), printer(2), task1}\n",
    "done, pending = await asyncio.wait(coros, return_when=asyncio.FIRST_COMPLETED)\n",
    "print(done, pending)"
   ]
  },
  {
   "cell_type": "code",
   "execution_count": 87,
   "metadata": {},
   "outputs": [
    {
     "name": "stdout",
     "output_type": "stream",
     "text": [
      "None\n"
     ]
    }
   ],
   "source": [
    "for task in done:\n",
    "    print(task.result())"
   ]
  },
  {
   "cell_type": "markdown",
   "metadata": {},
   "source": [
    "Замечу, что остальные корутины в этот момент не отменяются, а также что при выполнении множественных корутин всегда для корутины мгновенно создается `Task`"
   ]
  },
  {
   "cell_type": "markdown",
   "metadata": {},
   "source": [
    "### asyncio.as_completed"
   ]
  },
  {
   "cell_type": "markdown",
   "metadata": {},
   "source": [
    "Аналогично `wait`, только создает итератор в порядке выполнения корутин"
   ]
  },
  {
   "cell_type": "code",
   "execution_count": 89,
   "metadata": {},
   "outputs": [
    {
     "name": "stdout",
     "output_type": "stream",
     "text": [
      "waiting next <coroutine object as_completed.<locals>._wait_for_one at 0x7f5cd5bdb2c0>\n",
      "1\n",
      "next coroutine done\n",
      "waiting next <coroutine object as_completed.<locals>._wait_for_one at 0x7f5cd5bdbd40>\n",
      "2\n",
      "next coroutine done\n",
      "waiting next <coroutine object as_completed.<locals>._wait_for_one at 0x7f5cd5bdb2c0>\n",
      "3\n",
      "next coroutine done\n"
     ]
    }
   ],
   "source": [
    "coros = {printer(3), printer(2), printer(1)}\n",
    "for coro in asyncio.as_completed(coros):\n",
    "    print(f'waiting next {coro}')\n",
    "    await coro\n",
    "    print('next coroutine done')"
   ]
  },
  {
   "cell_type": "markdown",
   "metadata": {},
   "source": [
    "Также есть однопоточные (не thread-safe) примитивы синхронизации, позволяющие настраивать общение корутин\n",
    "\n",
    "Всего их 4 вида - `Lock, Semaphore, Event, Condition`. Последний - объединение lock + event"
   ]
  },
  {
   "cell_type": "markdown",
   "metadata": {},
   "source": [
    "### asyncio.Lock"
   ]
  },
  {
   "cell_type": "code",
   "execution_count": 106,
   "metadata": {},
   "outputs": [
    {
     "name": "stdout",
     "output_type": "stream",
     "text": [
      "Before start 10:14:31\n",
      "Coro result 1, time: 10:14:32\n",
      "Coro result 3, time: 10:14:35\n",
      "Coro result 2, time: 10:14:37\n"
     ]
    }
   ],
   "source": [
    "lock = asyncio.Lock()\n",
    "\n",
    "async def solo_waiter(num):\n",
    "    async with lock:\n",
    "        await asyncio.sleep(num)\n",
    "    return num\n",
    "\n",
    "print(f'Before start {time.strftime(\"%X\")}')\n",
    "for coro in asyncio.as_completed({solo_waiter(i) for i in range(1, 4)}):\n",
    "    res = await coro\n",
    "    print(f'Coro result {res}, time: {time.strftime(\"%X\")}')"
   ]
  },
  {
   "cell_type": "markdown",
   "metadata": {},
   "source": [
    "### asyncio.Semaphore\n"
   ]
  },
  {
   "cell_type": "code",
   "execution_count": 105,
   "metadata": {},
   "outputs": [
    {
     "name": "stdout",
     "output_type": "stream",
     "text": [
      "Before start 10:13:17\n",
      "Coro result 1, time: 10:13:18\n",
      "Coro result 2, time: 10:13:19\n",
      "Coro result 3, time: 10:13:21\n"
     ]
    }
   ],
   "source": [
    "sem = asyncio.Semaphore(2)\n",
    "\n",
    "async def solo_waiter(num):\n",
    "    async with sem:\n",
    "        await asyncio.sleep(num)\n",
    "    return num\n",
    "\n",
    "print(f'Before start {time.strftime(\"%X\")}')\n",
    "for coro in asyncio.as_completed({solo_waiter(i) for i in range(1, 4)}):\n",
    "    res = await coro\n",
    "    print(f'Coro result {res}, time: {time.strftime(\"%X\")}')"
   ]
  },
  {
   "cell_type": "markdown",
   "metadata": {},
   "source": [
    "### asyncio.Event"
   ]
  },
  {
   "cell_type": "code",
   "execution_count": 102,
   "metadata": {},
   "outputs": [
    {
     "name": "stdout",
     "output_type": "stream",
     "text": [
      "waiting for it ...\n",
      "... got it!\n"
     ]
    }
   ],
   "source": [
    "async def waiter(event):\n",
    "    print('waiting for it ...')\n",
    "    await event.wait()\n",
    "    print('... got it!')\n",
    "\n",
    "async def main():\n",
    "    # Create an Event object.\n",
    "    event = asyncio.Event()\n",
    "\n",
    "    # Spawn a Task to wait until 'event' is set.\n",
    "    waiter_task = asyncio.create_task(waiter(event))\n",
    "\n",
    "    # Sleep for 1 second and set the event.\n",
    "    await asyncio.sleep(1)\n",
    "    event.set()\n",
    "\n",
    "    # Wait until the waiter task is finished.\n",
    "    await waiter_task\n",
    "\n",
    "await main()"
   ]
  },
  {
   "cell_type": "code",
   "execution_count": null,
   "metadata": {},
   "outputs": [],
   "source": []
  }
 ],
 "metadata": {
  "kernelspec": {
   "display_name": "Python 3",
   "language": "python",
   "name": "python3"
  },
  "language_info": {
   "codemirror_mode": {
    "name": "ipython",
    "version": 3
   },
   "file_extension": ".py",
   "mimetype": "text/x-python",
   "name": "python",
   "nbconvert_exporter": "python",
   "pygments_lexer": "ipython3",
   "version": "3.8.0"
  }
 },
 "nbformat": 4,
 "nbformat_minor": 4
}
