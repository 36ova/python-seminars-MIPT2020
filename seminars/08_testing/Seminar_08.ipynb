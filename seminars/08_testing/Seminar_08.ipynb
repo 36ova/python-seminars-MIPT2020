{
 "cells": [
  {
   "cell_type": "code",
   "execution_count": 1,
   "metadata": {},
   "outputs": [],
   "source": [
    "from IPython.core.interactiveshell import InteractiveShell\n",
    "InteractiveShell.ast_node_interactivity = \"all\"\n"
   ]
  },
  {
   "cell_type": "markdown",
   "metadata": {},
   "source": [
    "# Python 3\n",
    "## Тестирование. Исключения\n",
    "\n",
    "MIPT 2020"
   ]
  },
  {
   "cell_type": "markdown",
   "metadata": {},
   "source": [
    "## Testing"
   ]
  },
  {
   "cell_type": "markdown",
   "metadata": {},
   "source": [
    "Фреймворками для тестирования в питоне обычно являются `pytest` и `unittest`"
   ]
  },
  {
   "cell_type": "markdown",
   "metadata": {},
   "source": [
    "Мы поговорим про `pytest` https://docs.pytest.org/en/latest/"
   ]
  },
  {
   "cell_type": "code",
   "execution_count": 2,
   "metadata": {},
   "outputs": [
    {
     "name": "stderr",
     "output_type": "stream",
     "text": [
      "/home/pavel/.local/lib/python3.8/site-packages/ipytest/_unittest_support.py:18: FutureWarning: pandas.util.testing is deprecated. Use the functions in the public API at pandas.testing instead.\n",
      "  import pandas.util.testing as _pd_testing\n"
     ]
    },
    {
     "data": {
      "text/plain": [
       "<ConfigContext rewrite_asserts=True, magics=True, tempfile_fallback=False, clean='[Tt]est*', addopts=(), raise_on_error=False, run_in_thread=False>"
      ]
     },
     "execution_count": 2,
     "metadata": {},
     "output_type": "execute_result"
    }
   ],
   "source": [
    "import pytest\n",
    "import ipytest\n",
    "from typing import List, Any, Optional\n",
    "\n",
    "ipytest.config(rewrite_asserts=True, magics=True)\n",
    "__file__ = 'Seminar_08.ipynb'\n"
   ]
  },
  {
   "cell_type": "code",
   "execution_count": 3,
   "metadata": {},
   "outputs": [],
   "source": [
    "import dataclasses\n",
    "\n",
    "@dataclasses.dataclass\n",
    "class MyList:\n",
    "    data: Any\n",
    "    move: Optional['MyList'] = None\n"
   ]
  },
  {
   "cell_type": "code",
   "execution_count": 4,
   "metadata": {},
   "outputs": [],
   "source": [
    "def reverse_mylist(l: MyList) -> MyList:\n",
    "    following = l.move\n",
    "    while following is not None:\n",
    "        new_following = following.move\n",
    "        following.move = l\n",
    "        l = following\n",
    "        following = new_following\n",
    "    return l\n"
   ]
  },
  {
   "cell_type": "code",
   "execution_count": null,
   "metadata": {},
   "outputs": [
    {
     "name": "stdout",
     "output_type": "stream",
     "text": [
      "F."
     ]
    }
   ],
   "source": [
    "%%run_pytest[clean] -q\n",
    "\n",
    "def test_reverse_mylist_simple():\n",
    "    l = MyList(data=1)\n",
    "    it = l\n",
    "    for i in range(2, 5):\n",
    "        it.move = MyList(data=i)\n",
    "        it = it.move\n",
    "    \n",
    "    assert reverse_mylist(l) == it\n",
    "    \n",
    "    collected_data = []\n",
    "    for _ in range(1, 5):\n",
    "        collected_data.append(it.data)\n",
    "        it = it.move\n",
    "    \n",
    "    assert it is None\n",
    "    assert collected_data == [4, 3, 2, 1]\n",
    "\n",
    "def test_reverse_mylist_one_item():\n",
    "    l = MyList(data=1)\n",
    "    \n",
    "    assert reverse_mylist(l) == l\n",
    "    assert l.data == 1\n",
    "\n",
    "def test_reverse_mylist_twice():\n",
    "    l = MyList(data=1)\n",
    "    it = l\n",
    "    for i in range(2, 100):\n",
    "        it.move = MyList(data=i)\n",
    "        it = it.move\n",
    "    \n",
    "    reversed_l = reverse_mylist(reverse_mylist(l))\n",
    "    \n",
    "    collected_data = []\n",
    "    for _ in range(1, 100):\n",
    "        collected_data.append(reversed_l.data)\n",
    "        reversed_l = reversed_l.move\n",
    "    \n",
    "    assert reversed_l is None\n",
    "    assert collected_data == list(range(1, 100))\n"
   ]
  },
  {
   "cell_type": "markdown",
   "metadata": {},
   "source": [
    "Ой, что-то пошло не так, надо найти баг и перезапустить тесты"
   ]
  },
  {
   "cell_type": "code",
   "execution_count": null,
   "metadata": {},
   "outputs": [],
   "source": [
    "def reverse_mylist(l: MyList) -> MyList:\n",
    "    previous = None\n",
    "    while l is not None:\n",
    "        following = l.move\n",
    "        l.move = previous\n",
    "        previous = l\n",
    "        l = following\n",
    "    return previous\n"
   ]
  },
  {
   "cell_type": "markdown",
   "metadata": {},
   "source": [
    "### Test-driven development"
   ]
  },
  {
   "cell_type": "markdown",
   "metadata": {},
   "source": [
    "Сначала тесты, потом код. В чем плюсы и минусы?"
   ]
  },
  {
   "cell_type": "markdown",
   "metadata": {},
   "source": [
    "#### pytest.parametrize"
   ]
  },
  {
   "cell_type": "code",
   "execution_count": null,
   "metadata": {},
   "outputs": [],
   "source": [
    "def shift(l: List[Any], by: int) -> None:\n",
    "    l_2 = list(reversed(l))\n",
    "    l_2[:by] = list(reversed(l_2[:by]))\n",
    "    l_2[by:] = list(reversed(l_2[by:]))\n",
    "    l[:] = l_2[:]\n"
   ]
  },
  {
   "cell_type": "code",
   "execution_count": null,
   "metadata": {},
   "outputs": [],
   "source": [
    "%%run_pytest[clean] -q\n",
    "\n",
    "def test_shift_0():\n",
    "    l = [0, 1, 2, 3, 4]\n",
    "    l_true = l.copy()\n",
    "    \n",
    "    shift(l, 0)\n",
    "    assert l == l_true\n",
    "\n",
    "def test_shift_2():\n",
    "    l = [0, 1, 2, 3, 4]\n",
    "    l_true = [3, 4, 0, 1, 2]\n",
    "    \n",
    "    shift(l, 2)\n",
    "    assert l == l_true\n",
    "\n",
    "def test_shift_7():\n",
    "    l = [0, 1, 2, 3, 4]\n",
    "    l_true = [3, 4, 0, 1, 2]\n",
    "    \n",
    "    shift(l, 7)\n",
    "    assert l == l_true\n",
    "\n",
    "def test_shift_minus():\n",
    "    l = [0, 1, 2, 3, 4]\n",
    "    l_true = [1, 2, 3, 4, 0]\n",
    "    \n",
    "    shift(l, -1)\n",
    "    assert l == l_true\n",
    "\n",
    "def test_shift_empty():\n",
    "    l = []\n",
    "    \n",
    "    shift(l, 100)\n",
    "    assert not l\n"
   ]
  },
  {
   "cell_type": "code",
   "execution_count": null,
   "metadata": {},
   "outputs": [],
   "source": [
    "def shift(l: List[Any], by: int) -> None:\n",
    "    if not l:\n",
    "        return\n",
    "    by = by % len(l)\n",
    "    l_2 = list(reversed(l))\n",
    "    l_2[:by] = list(reversed(l_2[:by]))\n",
    "    l_2[by:] = list(reversed(l_2[by:]))\n",
    "    l[:] = l_2[:]\n"
   ]
  },
  {
   "cell_type": "markdown",
   "metadata": {},
   "source": [
    "Теперь будем чуть оптимальнее"
   ]
  },
  {
   "cell_type": "code",
   "execution_count": null,
   "metadata": {},
   "outputs": [],
   "source": [
    "%%run_pytest[clean] -q\n",
    "\n",
    "@pytest.mark.parametrize('shift_value,l_true', [\n",
    "    (0, [0, 1, 2, 3, 4]),\n",
    "    (2, [3, 4, 0, 1, 2]),\n",
    "    (7, [3, 4, 0, 1, 2]),\n",
    "    (-1, [1, 2, 3, 4, 0]),\n",
    "], ids=['zero', 'non-zero', 'out bounds', 'negative'])\n",
    "def test_shift_simple(shift_value, l_true):\n",
    "    l = [0, 1, 2, 3, 4]\n",
    "    \n",
    "    shift(l, shift_value)\n",
    "    assert l == l_true\n",
    "\n",
    "def test_shift_empty():\n",
    "    l = []\n",
    "    \n",
    "    shift(l, 100)\n",
    "    assert not l\n"
   ]
  },
  {
   "cell_type": "markdown",
   "metadata": {},
   "source": [
    "#### pytest.raises"
   ]
  },
  {
   "cell_type": "code",
   "execution_count": null,
   "metadata": {},
   "outputs": [],
   "source": [
    "def say_phrase(phrase: str) -> None:\n",
    "    if '?' in phrase:\n",
    "        raise ValueError('questions are not allowed')\n",
    "    print(phrase)"
   ]
  },
  {
   "cell_type": "code",
   "execution_count": null,
   "metadata": {},
   "outputs": [],
   "source": [
    "%%run_pytest[clean] -q\n",
    "\n",
    "def test_say_phrase_simple():\n",
    "    say_phrase('Hello World!')\n",
    "\n",
    "def test_say_phrase_question():\n",
    "    with pytest.raises(ValueError):\n",
    "        say_phrase('May I ask a question?')"
   ]
  },
  {
   "cell_type": "markdown",
   "metadata": {},
   "source": [
    "#### pytest + floats"
   ]
  },
  {
   "cell_type": "markdown",
   "metadata": {},
   "source": [
    "Проблема:"
   ]
  },
  {
   "cell_type": "code",
   "execution_count": null,
   "metadata": {},
   "outputs": [],
   "source": [
    "%%run_pytest[clean] -q\n",
    "\n",
    "def test_zero_point_three():\n",
    "    assert 0.3 == 0.1 + 0.1 + 0.1"
   ]
  },
  {
   "cell_type": "markdown",
   "metadata": {},
   "source": [
    "Решение - `pytest.approx`"
   ]
  },
  {
   "cell_type": "code",
   "execution_count": null,
   "metadata": {},
   "outputs": [],
   "source": [
    "%%run_pytest[clean] -q\n",
    "\n",
    "def test_zero_point_three():\n",
    "    assert 0.1 + 0.1 + 0.1 == pytest.approx(0.3)"
   ]
  },
  {
   "cell_type": "markdown",
   "metadata": {},
   "source": [
    "#### Monkeypatch"
   ]
  },
  {
   "cell_type": "code",
   "execution_count": null,
   "metadata": {},
   "outputs": [],
   "source": [
    "import random\n",
    "\n",
    "\n",
    "def lottery(p: float, n: int) -> bool:\n",
    "    lucky_number = random.randint(n)\n",
    "    if lucky_number < n * p:\n",
    "        return True  # congratulations, you won!\n",
    "    return False  # not this time\n",
    "    "
   ]
  },
  {
   "cell_type": "markdown",
   "metadata": {},
   "source": [
    "Рандом в тестах - это плохо! Приводит к \"флапающим тестам\""
   ]
  },
  {
   "cell_type": "code",
   "execution_count": null,
   "metadata": {},
   "outputs": [],
   "source": [
    "%%run_pytest[clean] -q\n",
    "\n",
    "TEST_P = 0.1\n",
    "TEST_N = 100\n",
    "\n",
    "def test_lottery_win(monkeypatch):\n",
    "    monkeypatch.setattr(random, 'randint', lambda x: 0)\n",
    "    \n",
    "    assert lottery(TEST_P, TEST_N)\n",
    "\n",
    "def test_lottery_loss(monkeypatch):\n",
    "    monkeypatch.setattr(random, 'randint', lambda x: TEST_N)\n",
    "    \n",
    "    assert not lottery(TEST_P, TEST_N)\n"
   ]
  },
  {
   "cell_type": "markdown",
   "metadata": {},
   "source": [
    "Что это было? Откуда взялся параметр monkeypatch?"
   ]
  },
  {
   "cell_type": "markdown",
   "metadata": {},
   "source": [
    "### fixtures"
   ]
  },
  {
   "cell_type": "markdown",
   "metadata": {},
   "source": [
    "Приведем пример, как мокать http запросы"
   ]
  },
  {
   "cell_type": "code",
   "execution_count": null,
   "metadata": {},
   "outputs": [],
   "source": [
    "%%file get_cat.py\n",
    "\n",
    "import aiohttp        \n",
    "import aiofiles\n",
    "\n",
    "\n",
    "URL = \"https://cdn.pixabay.com/photo/2015/11/16/14/43/cat-1045782_960_720.jpg\"\n",
    "\n",
    "\n",
    "async def save_cat_image(path: str):\n",
    "    async with aiohttp.ClientSession() as session:\n",
    "        async with session.get(URL) as resp:\n",
    "            async with aiofiles.open(path, mode='wb') as f:\n",
    "                await f.write(await resp.read())\n"
   ]
  },
  {
   "cell_type": "code",
   "execution_count": null,
   "metadata": {},
   "outputs": [],
   "source": [
    "import aiohttp        \n",
    "import aiofiles\n",
    "\n",
    "\n",
    "URL = \"https://cdn.pixabay.com/photo/2015/11/16/14/43/cat-1045782_960_720.jpg\"\n",
    "\n",
    "\n",
    "async def save_cat_image(path: str):\n",
    "    async with aiohttp.ClientSession() as session:\n",
    "        async with session.get(URL) as resp:\n",
    "            async with aiofiles.open(path, mode='wb') as f:\n",
    "                await f.write(await resp.read())\n",
    "\n",
    "await save_cat_image('cat.jpg')"
   ]
  },
  {
   "cell_type": "code",
   "execution_count": null,
   "metadata": {},
   "outputs": [],
   "source": [
    "from IPython.display import Image\n",
    "Image(filename='cat.jpg', width=500)\n"
   ]
  },
  {
   "cell_type": "code",
   "execution_count": null,
   "metadata": {},
   "outputs": [],
   "source": [
    "!rm cat.jpg\n"
   ]
  },
  {
   "cell_type": "code",
   "execution_count": null,
   "metadata": {},
   "outputs": [],
   "source": [
    "%%file test_get_cat.py\n",
    "from contextlib import asynccontextmanager\n",
    "import aiohttp\n",
    "import aiofiles\n",
    "import pytest\n",
    "import io\n",
    "\n",
    "import get_cat\n",
    "\n",
    "TEST_BODY = \"Test Message\"\n",
    "\n",
    "class Response:\n",
    "    async def read(self):\n",
    "        return TEST_BODY.encode()\n",
    "\n",
    "\n",
    "@pytest.fixture\n",
    "def mock_request(monkeypatch):\n",
    "    @asynccontextmanager\n",
    "    async def get_resp(*args):\n",
    "        yield Response()\n",
    "    \n",
    "    monkeypatch.setattr(aiohttp.ClientSession, 'get', get_resp)\n",
    "\n",
    "    \n",
    "@pytest.mark.asyncio\n",
    "async def test_cat_image(mock_request, tmp_path):\n",
    "    path_to_save = tmp_path / 'cat.jpg'\n",
    "    await get_cat.save_cat_image(path_to_save)\n",
    "    \n",
    "    with open(path_to_save) as cat_file:\n",
    "        assert cat_file.read() == TEST_BODY\n"
   ]
  },
  {
   "cell_type": "code",
   "execution_count": null,
   "metadata": {},
   "outputs": [],
   "source": [
    "!rm get_cat.py test_get_cat.py"
   ]
  },
  {
   "cell_type": "markdown",
   "metadata": {},
   "source": [
    "Оффтоп про asyncio"
   ]
  },
  {
   "cell_type": "code",
   "execution_count": null,
   "metadata": {},
   "outputs": [],
   "source": [
    "import asyncio\n",
    "\n",
    "\n",
    "async def sleep_coro(num):\n",
    "    await asyncio.sleep(1)\n",
    "    return num\n",
    "\n",
    "results = asyncio.gather(*[sleep_coro(num) for num in range(5)])\n",
    "results.add_done_callback(lambda res: print(res.result()))\n",
    "print('Haha I am faster')\n"
   ]
  },
  {
   "cell_type": "markdown",
   "metadata": {},
   "source": [
    "## Исключения"
   ]
  },
  {
   "cell_type": "code",
   "execution_count": null,
   "metadata": {},
   "outputs": [],
   "source": [
    "def raise_func(statement: str):\n",
    "    try:\n",
    "        exec(statement)\n",
    "    except ZeroDivisionError as e:\n",
    "        print(e)\n",
    "        raise\n",
    "    except NameError as e:\n",
    "        print(e)\n",
    "        raise ValueError('I think it is ValueError') from e\n",
    "    except Exception as e:\n",
    "        print(e)\n",
    "        raise ValueError('unknown problem occured')\n",
    "    else:\n",
    "        print('everything is ok')\n",
    "    finally:\n",
    "        print('I will be printed anyway')\n",
    "    "
   ]
  },
  {
   "cell_type": "code",
   "execution_count": null,
   "metadata": {},
   "outputs": [],
   "source": [
    "try:\n",
    "    raise_func('1 / 0')\n",
    "except Exception as e:\n",
    "    print(f'exception thrown {e}', end='\\n\\n')\n",
    "\n",
    "try:\n",
    "    raise_func('print(a)')\n",
    "except Exception as e:\n",
    "    print(f'exception thrown {e}', end='\\n\\n')\n",
    "\n",
    "try:\n",
    "    raise_func('def ololo')\n",
    "except Exception as e:\n",
    "    print(f'exception thrown {e}', end='\\n\\n')\n",
    "\n",
    "try:\n",
    "    raise_func('1 / 1')\n",
    "except Exception as e:\n",
    "    print(f'exception thrown {e}', end='\\n\\n')\n"
   ]
  }
 ],
 "metadata": {
  "kernelspec": {
   "display_name": "Python 3",
   "language": "python",
   "name": "python3"
  },
  "language_info": {
   "codemirror_mode": {
    "name": "ipython",
    "version": 3
   },
   "file_extension": ".py",
   "mimetype": "text/x-python",
   "name": "python",
   "nbconvert_exporter": "python",
   "pygments_lexer": "ipython3",
   "version": "3.8.0"
  }
 },
 "nbformat": 4,
 "nbformat_minor": 4
}
